{
  "nbformat": 4,
  "nbformat_minor": 0,
  "metadata": {
    "colab": {
      "provenance": []
    },
    "kernelspec": {
      "name": "python3",
      "display_name": "Python 3"
    },
    "language_info": {
      "name": "python"
    }
  },
  "cells": [
    {
      "cell_type": "code",
      "source": [
        "import os\n",
        "import pandas as pd\n",
        "from sklearn.ensemble import RandomForestRegressor\n",
        "from sklearn.impute import SimpleImputer\n",
        "from sklearn.pipeline import make_pipeline\n",
        "\n",
        "def round_to_nearest_int(value):\n",
        "    decimal_part = value - int(value)\n",
        "    if decimal_part > 0.5:\n",
        "        return int(value) + 1\n",
        "    else:\n",
        "        return int(value)\n",
        "\n",
        "def extract_player_name(file_name):\n",
        "    # Extract player name from the file name (customize as per your file naming convention)\n",
        "    return file_name.split('.')[0]\n",
        "\n",
        "def predict_wickets(file_path):\n",
        "    # Load the dataset\n",
        "    data = pd.read_csv(file_path)\n",
        "\n",
        "    # Filter rows where 'Opposition' is 'Australia'\n",
        "    data_australia = data[data['Opposition'] == 'Australia'].copy()  # Use copy to avoid SettingWithCopyWarning\n",
        "\n",
        "    # Clean and preprocess the 'Econ' column\n",
        "    data_australia['Econ'] = pd.to_numeric(data_australia['Econ'], errors='coerce')\n",
        "\n",
        "    # Assuming your dataset has columns 'Econ', 'Runs', and 'Wkts'\n",
        "    X = data_australia[['Econ', 'Runs']]\n",
        "    y_wkts = data_australia['Wkts']\n",
        "\n",
        "    # Impute missing values in 'Econ' column\n",
        "    imputer = SimpleImputer(strategy='mean')\n",
        "\n",
        "    # Create a Random Forest regressor model for 'Wkts'\n",
        "    model_wkts = RandomForestRegressor(n_estimators=100, random_state=42)\n",
        "    pipeline_wkts = make_pipeline(imputer, model_wkts)\n",
        "    pipeline_wkts.fit(X, y_wkts)\n",
        "\n",
        "    # Create a new DataFrame for the calculated Econ and Runs\n",
        "    mean_econ = X['Econ'].mean()\n",
        "    mean_runs = X['Runs'].mean()\n",
        "    input_data_df = pd.DataFrame({'Econ': [mean_econ], 'Runs': [mean_runs]})\n",
        "\n",
        "    # Impute missing values in the input features for prediction\n",
        "    input_data_imputed = pd.DataFrame(imputer.transform(input_data_df), columns=input_data_df.columns)\n",
        "\n",
        "    # Make predictions using the calculated Econ and Runs for 'Wkts'\n",
        "    predicted_wkts = pipeline_wkts.predict(input_data_imputed)\n",
        "\n",
        "    # Round predicted wickets to the nearest integer\n",
        "    rounded_predicted_wkts = round_to_nearest_int(predicted_wkts[0])\n",
        "\n",
        "    # Return the predictions and rounded values along with the player name\n",
        "    return {\n",
        "        'Player Name': extract_player_name(os.path.basename(file_path)),\n",
        "        'Predicted Wkts': rounded_predicted_wkts,\n",
        "        'Total Wkts': int(predicted_wkts[0])\n",
        "    }\n",
        "\n",
        "# Initialize total wickets\n",
        "total_wkts = 0\n",
        "\n",
        "# Example usage:\n",
        "folder_path = \"indbowl\"\n",
        "file_paths = [os.path.join(folder_path, file) for file in os.listdir(folder_path) if file.endswith(\".csv\")]\n",
        "\n",
        "for file_path in file_paths:\n",
        "    predictions = predict_wickets(file_path)\n",
        "    total_wkts += predictions['Predicted Wkts']  # Change this line to use 'Predicted Wkts'\n",
        "\n",
        "    print(f'\\nPredictions for {predictions[\"Player Name\"]}:')\n",
        "    print(f'Predicted Wkts: {predictions[\"Predicted Wkts\"]}')\n",
        "\n",
        "# Display total wickets across all files\n",
        "print('\\nTotal Wkts:', total_wkts)\n",
        "\n",
        "# Additional message\n",
        "print(\"Additional message: The predictions have been successfully calculated.\")\n"
      ],
      "metadata": {
        "colab": {
          "base_uri": "https://localhost:8080/"
        },
        "id": "QVXFWmyPq29n",
        "outputId": "f631e2bc-6b48-4549-dc5e-5ce808bb3d98"
      },
      "execution_count": null,
      "outputs": [
        {
          "output_type": "stream",
          "name": "stdout",
          "text": [
            "\n",
            "Predictions for Kuldeep Yadav:\n",
            "Predicted Wkts: 1\n",
            "\n",
            "Predictions for Mohammed Shami:\n",
            "Predicted Wkts: 2\n",
            "\n",
            "Predictions for RA Jadeja:\n",
            "Predicted Wkts: 1\n",
            "\n",
            "Predictions for bumrah:\n",
            "Predicted Wkts: 1\n",
            "\n",
            "Predictions for Mohammed Siraj:\n",
            "Predicted Wkts: 1\n",
            "\n",
            "Total Wkts: 6\n",
            "Additional message: The predictions have been successfully calculated.\n"
          ]
        }
      ]
    },
    {
      "cell_type": "code",
      "source": [],
      "metadata": {
        "id": "Lt5hBBrK0PUX"
      },
      "execution_count": null,
      "outputs": []
    }
  ]
}